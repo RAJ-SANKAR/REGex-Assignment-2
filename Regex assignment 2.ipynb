{
 "cells": [
  {
   "cell_type": "markdown",
   "id": "d9c6a9d8",
   "metadata": {},
   "source": [
    "# TASK 2\n",
    "\n",
    "Registration ID : SIRSS2140\n",
    "    \n",
    "RAJ SANKAR GS"
   ]
  },
  {
   "cell_type": "markdown",
   "id": "508f6138",
   "metadata": {},
   "source": [
    "Q1. Write a lambda expression to extract first word of a string."
   ]
  },
  {
   "cell_type": "code",
   "execution_count": 1,
   "id": "ee6054a3",
   "metadata": {},
   "outputs": [
    {
     "data": {
      "text/plain": [
       "'Dhoni'"
      ]
     },
     "execution_count": 1,
     "metadata": {},
     "output_type": "execute_result"
    }
   ],
   "source": [
    "x = 'Dhoni finishes off in style with a magnificent six'\n",
    "y = lambda str: str.split()[0]\n",
    "y(x)"
   ]
  },
  {
   "cell_type": "markdown",
   "id": "484c2ab3",
   "metadata": {},
   "source": [
    "Q2. Write a function to extract first word of s string (with many words separated by space)."
   ]
  },
  {
   "cell_type": "code",
   "execution_count": 2,
   "id": "67907848",
   "metadata": {},
   "outputs": [
    {
     "data": {
      "text/plain": [
       "'Suicide'"
      ]
     },
     "execution_count": 2,
     "metadata": {},
     "output_type": "execute_result"
    }
   ],
   "source": [
    "str = \"Suicide Squad is a 2021 American superhero film based on DC Comics featuring the team Suicide Squad.\"\n",
    "\n",
    "def first_word(string):\n",
    "    return string.split()[0]\n",
    "\n",
    "first_word(str)"
   ]
  },
  {
   "cell_type": "markdown",
   "id": "1b42a0e8",
   "metadata": {},
   "source": [
    "Q3.Extract the first word from every string from a list of strings by using map function."
   ]
  },
  {
   "cell_type": "code",
   "execution_count": 3,
   "id": "2c8f2986",
   "metadata": {},
   "outputs": [
    {
     "data": {
      "text/plain": [
       "['Clark', 'Bruce', 'Diana', 'Barry', 'Arthur']"
      ]
     },
     "execution_count": 3,
     "metadata": {},
     "output_type": "execute_result"
    }
   ],
   "source": [
    "DC = ['Clark Kent is Superman',\n",
    "      'Bruce Wayne is The Dark Knight',\n",
    "      'Diana is Wonder Woman', \n",
    "      'Barry Allen is the Flash',\n",
    "      'Arthur is the Aquaman']\n",
    "list(map(lambda s: s.split()[0], DC))"
   ]
  },
  {
   "cell_type": "markdown",
   "id": "44dd912b",
   "metadata": {},
   "source": [
    "Q4. Write a function to return a list of prime factors of a given number."
   ]
  },
  {
   "cell_type": "code",
   "execution_count": 4,
   "id": "3cfd5df1",
   "metadata": {},
   "outputs": [
    {
     "name": "stdout",
     "output_type": "stream",
     "text": [
      "Enter the number: 640\n",
      "[2, 2, 2, 2, 2, 2, 2, 5]\n"
     ]
    }
   ],
   "source": [
    "def prime_num(x):\n",
    "    prime_factor = []\n",
    "    divisor = 2\n",
    "    while divisor <= x:\n",
    "        if x%divisor == 0:\n",
    "            prime_factor.append(divisor)\n",
    "            x = x/divisor \n",
    "        else:\n",
    "            divisor += 1 \n",
    "    return prime_factor\n",
    "\n",
    "num = input('Enter the number: ')\n",
    "print(prime_num(int(num)))"
   ]
  },
  {
   "cell_type": "markdown",
   "id": "af8df305",
   "metadata": {},
   "source": [
    "Q5. Write a function that finds 2nd largest among 4 numbers (Repetitions are allowed, without sorting)."
   ]
  },
  {
   "cell_type": "code",
   "execution_count": 5,
   "id": "a9ba49b1",
   "metadata": {},
   "outputs": [
    {
     "name": "stdout",
     "output_type": "stream",
     "text": [
      "2 5 7 3 8\n",
      "7\n"
     ]
    }
   ],
   "source": [
    "def second_largest(num):\n",
    "    x = set(num)\n",
    "    x = list(x)\n",
    "    y = max(x)\n",
    "    x.remove(y)\n",
    "    y = max(x)\n",
    "    return y\n",
    "\n",
    "k = input()\n",
    "k = k.split()\n",
    "k = list(map(int, k))\n",
    "print(second_largest(k))"
   ]
  },
  {
   "cell_type": "code",
   "execution_count": null,
   "id": "79087dd8",
   "metadata": {},
   "outputs": [],
   "source": [
    "##same try as question 4\n",
    "\n",
    "\n",
    "num = input('Enter the number: ')\n",
    "print(prime_num(int(num)))\n",
    "\n",
    "def prime_num(x):\n",
    "    prime_factor = []\n",
    "    divisor = 2\n",
    "    while divisor <= x:\n",
    "        if x%divisor == 0:\n",
    "            prime_factor.append(divisor)\n",
    "            x = x/divisor \n",
    "        else:\n",
    "            divisor += 1 \n",
    "    return prime_factor"
   ]
  },
  {
   "cell_type": "code",
   "execution_count": null,
   "id": "057f315c",
   "metadata": {},
   "outputs": [],
   "source": []
  }
 ],
 "metadata": {
  "kernelspec": {
   "display_name": "Python 3",
   "language": "python",
   "name": "python3"
  },
  "language_info": {
   "codemirror_mode": {
    "name": "ipython",
    "version": 3
   },
   "file_extension": ".py",
   "mimetype": "text/x-python",
   "name": "python",
   "nbconvert_exporter": "python",
   "pygments_lexer": "ipython3",
   "version": "3.8.8"
  }
 },
 "nbformat": 4,
 "nbformat_minor": 5
}
